{
  "nbformat": 4,
  "nbformat_minor": 0,
  "metadata": {
    "colab": {
      "name": "MatMul_Rusin.ipynb",
      "provenance": [],
      "collapsed_sections": []
    },
    "kernelspec": {
      "name": "python3",
      "display_name": "Python 3"
    },
    "accelerator": "GPU"
  },
  "cells": [
    {
      "cell_type": "code",
      "metadata": {
        "id": "at-4GYkBDwzE"
      },
      "source": [
        "#Библиотеки\n",
        "import numpy as np\n",
        "import pandas as pd\n",
        "from numba import cuda\n",
        "from time import time\n",
        "import math"
      ],
      "execution_count": 1,
      "outputs": []
    },
    {
      "cell_type": "code",
      "metadata": {
        "id": "N2JlXt8MjT4N",
        "colab": {
          "base_uri": "https://localhost:8080/"
        },
        "outputId": "90606969-feba-4c85-be47-bf0d556f4f94"
      },
      "source": [
        "!lscpu |grep 'Model name'\n",
        "!nvidia-smi"
      ],
      "execution_count": 2,
      "outputs": [
        {
          "output_type": "stream",
          "text": [
            "Model name:          Intel(R) Xeon(R) CPU @ 2.20GHz\n",
            "Fri Nov 27 13:58:48 2020       \n",
            "+-----------------------------------------------------------------------------+\n",
            "| NVIDIA-SMI 455.38       Driver Version: 418.67       CUDA Version: 10.1     |\n",
            "|-------------------------------+----------------------+----------------------+\n",
            "| GPU  Name        Persistence-M| Bus-Id        Disp.A | Volatile Uncorr. ECC |\n",
            "| Fan  Temp  Perf  Pwr:Usage/Cap|         Memory-Usage | GPU-Util  Compute M. |\n",
            "|                               |                      |               MIG M. |\n",
            "|===============================+======================+======================|\n",
            "|   0  Tesla T4            Off  | 00000000:00:04.0 Off |                    0 |\n",
            "| N/A   56C    P8    10W /  70W |      0MiB / 15079MiB |      0%      Default |\n",
            "|                               |                      |                 ERR! |\n",
            "+-------------------------------+----------------------+----------------------+\n",
            "                                                                               \n",
            "+-----------------------------------------------------------------------------+\n",
            "| Processes:                                                                  |\n",
            "|  GPU   GI   CI        PID   Type   Process name                  GPU Memory |\n",
            "|        ID   ID                                                   Usage      |\n",
            "|=============================================================================|\n",
            "|  No running processes found                                                 |\n",
            "+-----------------------------------------------------------------------------+\n"
          ],
          "name": "stdout"
        }
      ]
    },
    {
      "cell_type": "code",
      "metadata": {
        "id": "Eemq16C5NP95"
      },
      "source": [
        "#Построчное вычисление произведения матриц\n",
        "def simple_dot_cpu(matrix1, matrix2):\n",
        "  N = len(matrix1)\n",
        "  matrix_res = np.zeros((N,N))\n",
        "  start = time()\n",
        "  for i in range(N):\n",
        "    for j in range(N):\n",
        "      for k in range(N):\n",
        "        matrix_res[i, j] += matrix1[i,k] * matrix2[k,j]\n",
        "  return matrix_res, time()-start"
      ],
      "execution_count": 3,
      "outputs": []
    },
    {
      "cell_type": "code",
      "metadata": {
        "id": "5Wl7laCrO6dA"
      },
      "source": [
        "#подключается ядро cuda, вычисляется один элемент\n",
        "@cuda.jit\n",
        "def simple_dot_gpu(matrix1, matrix2, matrix_res):\n",
        "    i, j = cuda.grid(2)\n",
        "    if i < matrix_res.shape[0] and j < matrix_res.shape[1]:\n",
        "      temp = 0\n",
        "      for k in range(matrix1.shape[1]):\n",
        "        temp += matrix1[i, k] * matrix2[k, j]\n",
        "      matrix_res[i, j] = temp"
      ],
      "execution_count": 4,
      "outputs": []
    },
    {
      "cell_type": "code",
      "metadata": {
        "id": "_cSpDxauNdXr"
      },
      "source": [
        "#встроенная функция для подсчета произведения\n",
        "def numpy_dot_cpu(matrix1, matrix2):\n",
        "  start = time()\n",
        "  matrix_res = np.dot(matrix1, matrix2)\n",
        "  return matrix_res, time() - start"
      ],
      "execution_count": 5,
      "outputs": []
    },
    {
      "cell_type": "code",
      "metadata": {
        "id": "KPG54_NyO7qz"
      },
      "source": [
        "def gpu_dot_exec(matrix1, matrix2, matrix_res, N):\n",
        "  #нити в блоке \n",
        "  tread_number_block = 32\n",
        "  #создаем копии матриц и результата на gpu\n",
        "  matrix1_global = cuda.to_device(matrix1)\n",
        "  matrix2_global = cuda.to_device(matrix2)\n",
        "  matrix_res_global = cuda.device_array((N, N))\n",
        "    \n",
        "  #создание сетки\n",
        "  threadsperblock = (tread_number_block, tread_number_block)\n",
        "  blockspergrid_x = int(math.ceil(matrix1.shape[0] / threadsperblock[1]))\n",
        "  blockspergrid_y = int(math.ceil(matrix2.shape[1] / threadsperblock[0]))\n",
        "  blockspergrid = (blockspergrid_x, blockspergrid_y)\n",
        "\n",
        "  start = time()\n",
        "  #вызываем функцию на сетке\n",
        "  simple_dot_gpu[blockspergrid, threadsperblock](matrix1_global, matrix2_global, matrix_res_global)\n",
        "  gpu_time = time() - start\n",
        "  matrix_res_gpu = matrix_res_global.copy_to_host() \n",
        "  return matrix_res_gpu, gpu_time"
      ],
      "execution_count": 10,
      "outputs": []
    },
    {
      "cell_type": "code",
      "metadata": {
        "id": "eaJxNMo9PQM7"
      },
      "source": [
        "#с помощью данной функции проверяется корректность перемножения\n",
        "def check_correctly_dot(N):\n",
        "  matrix1 = np.random.randint(0, 10, (N, N))\n",
        "  matrix1 = matrix1.astype(np.float64)\n",
        "  matrix2 = np.random.randint(0, 10, (N, N))\n",
        "  matrix2 = matrix2.astype(np.float64)\n",
        "  matrix_res = np.zeros((N, N))\n",
        "  matrix_res = matrix_res.astype(np.float64)\n",
        "  matrix_res_real = numpy_dot_cpu(matrix1,matrix2)[0]\n",
        "  matrix_res_cpu = simple_dot_cpu(matrix1,matrix2)[0]\n",
        "  matrix_res_gpu = gpu_dot_exec(matrix1, matrix2, matrix_res, N)[0]\n",
        "  if np.array_equal(matrix_res_real, matrix_res_cpu):\n",
        "    print('Перемножение на CPU корректно')\n",
        "  else:\n",
        "    print('Перемножение на CPU НЕ корректно')\n",
        "  if np.array_equal(matrix_res_real, matrix_res_gpu):\n",
        "    print('Перемножение на GPU корректно')\n",
        "  else:\n",
        "    print('Перемножение на GPU НЕ корректно')\n",
        "  \n",
        "\n",
        " "
      ],
      "execution_count": 11,
      "outputs": []
    },
    {
      "cell_type": "code",
      "metadata": {
        "id": "rc7kxhmSPJvb"
      },
      "source": [
        "def one_test(N):  \n",
        "  gpu_time = 0\n",
        "  cpu_time = 0\n",
        "  matrix1 = np.random.randint(0, 10, (N, N))\n",
        "  matrix1 = matrix1.astype(np.float64)\n",
        "  matrix2 = np.random.randint(0, 10, (N, N))\n",
        "  matrix2 = matrix2.astype(np.float64)\n",
        "  matrix_res = np.zeros((N, N))\n",
        "  matrix_res = matrix_res.astype(np.float64)\n",
        "    \n",
        "  matrix_res_gpu, gpu_time = gpu_dot_exec(matrix1, matrix2, matrix_res, N)\n",
        "  start = time()\n",
        "  matrix_res_cpu = simple_dot_cpu(matrix1, matrix2)\n",
        "  cpu_time += time() - start\n",
        "\n",
        "\n",
        " \n",
        "  print('Размер матрицы N =', N)\n",
        "  print('Время вычисления на CPU =',cpu_time)\n",
        "  print('Время вычисления на GPU =',gpu_time)\n",
        "  print('Ускорение = ',cpu_time/gpu_time )\n",
        "  return cpu_time, gpu_time"
      ],
      "execution_count": 12,
      "outputs": []
    },
    {
      "cell_type": "code",
      "metadata": {
        "colab": {
          "base_uri": "https://localhost:8080/"
        },
        "id": "kOa0keYCvznZ",
        "outputId": "ac47e55b-82b8-461c-f118-cf5afa9eed5f"
      },
      "source": [
        "gpu = [] \n",
        "cpu = []\n",
        "gpu_time, cpu_time = one_test(128) [0], one_test(128) [1]\n",
        "gpu_time, cpu_time = one_test(256) [0], one_test(256) [1]\n",
        "#gpu_time, cpu_time = one_test(512) [0], one_test(512) [1]\n",
        "#gpu_time, cpu_time = one_test(1024) [0], one_test(1024) [1]\n",
        "#gpu_time, cpu_time = one_test(2048) [0], one_test(2048) [1]\n",
        "gpu.append(gpu_time)\n",
        "cpu.append(cpu_time)"
      ],
      "execution_count": 13,
      "outputs": [
        {
          "output_type": "stream",
          "text": [
            "Размер матрицы N = 128\n",
            "Время вычисления на CPU = 1.4572546482086182\n",
            "Время вычисления на GPU = 0.0006339550018310547\n",
            "Ускорение =  2298.6720571643473\n",
            "Размер матрицы N = 128\n",
            "Время вычисления на CPU = 1.4897632598876953\n",
            "Время вычисления на GPU = 0.0003466606140136719\n",
            "Ускорение =  4297.469050894085\n",
            "Размер матрицы N = 256\n",
            "Время вычисления на CPU = 11.239952802658081\n",
            "Время вычисления на GPU = 0.0005288124084472656\n",
            "Ускорение =  21255.085211902617\n",
            "Размер матрицы N = 256\n",
            "Время вычисления на CPU = 11.356086492538452\n",
            "Время вычисления на GPU = 0.0003821849822998047\n",
            "Ускорение =  29713.586400499065\n"
          ],
          "name": "stdout"
        }
      ]
    },
    {
      "cell_type": "code",
      "metadata": {
        "id": "nM17pBw_AKAL"
      },
      "source": [
        ""
      ],
      "execution_count": null,
      "outputs": []
    }
  ]
}